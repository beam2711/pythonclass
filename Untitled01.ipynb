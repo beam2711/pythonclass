{
  "nbformat": 4,
  "nbformat_minor": 0,
  "metadata": {
    "colab": {
      "provenance": [],
      "authorship_tag": "ABX9TyNcL5mR9uCayN/OKvsA+XjP",
      "include_colab_link": true
    },
    "kernelspec": {
      "name": "python3",
      "display_name": "Python 3"
    },
    "language_info": {
      "name": "python"
    }
  },
  "cells": [
    {
      "cell_type": "markdown",
      "metadata": {
        "id": "view-in-github",
        "colab_type": "text"
      },
      "source": [
        "<a href=\"https://colab.research.google.com/github/beam2711/pythonclass/blob/main/Untitled01.ipynb\" target=\"_parent\"><img src=\"https://colab.research.google.com/assets/colab-badge.svg\" alt=\"Open In Colab\"/></a>"
      ]
    },
    {
      "cell_type": "code",
      "execution_count": null,
      "metadata": {
        "colab": {
          "base_uri": "https://localhost:8080/"
        },
        "id": "I5vUpTHZ3kS0",
        "outputId": "3f5b0a88-6afc-4ec1-e4cc-4e29275d0ec8"
      },
      "outputs": [
        {
          "output_type": "stream",
          "name": "stdout",
          "text": [
            "Heiio world\n"
          ]
        }
      ],
      "source": [
        "print(\"Heiio world\")"
      ]
    },
    {
      "cell_type": "code",
      "source": [
        "print(\"Information and Natwork Engineering\")"
      ],
      "metadata": {
        "colab": {
          "base_uri": "https://localhost:8080/"
        },
        "id": "qSjqBMuF4fwL",
        "outputId": "3d71d3eb-00f4-4df7-fb34-588382459e83"
      },
      "execution_count": null,
      "outputs": [
        {
          "output_type": "stream",
          "name": "stdout",
          "text": [
            "Information and Natwork Engineering\n"
          ]
        }
      ]
    },
    {
      "cell_type": "code",
      "source": [
        "print(\"Hello Anirach you will be great\")"
      ],
      "metadata": {
        "colab": {
          "base_uri": "https://localhost:8080/"
        },
        "id": "57FiUVG-5BFt",
        "outputId": "954523dd-250e-4b0f-e29d-7730832413e7"
      },
      "execution_count": null,
      "outputs": [
        {
          "output_type": "stream",
          "name": "stdout",
          "text": [
            "Hello Anirach you will be great\n"
          ]
        }
      ]
    },
    {
      "cell_type": "code",
      "source": [
        "print('Helllo Beam')"
      ],
      "metadata": {
        "colab": {
          "base_uri": "https://localhost:8080/"
        },
        "id": "I2KbP5ER8TI1",
        "outputId": "d3a6947b-80bf-452f-b26a-032567c8a395"
      },
      "execution_count": null,
      "outputs": [
        {
          "output_type": "stream",
          "name": "stdout",
          "text": [
            "Helllo Beam\n"
          ]
        }
      ]
    },
    {
      "cell_type": "code",
      "source": [
        "print(\"I'm hungry\")"
      ],
      "metadata": {
        "colab": {
          "base_uri": "https://localhost:8080/"
        },
        "id": "XL4m6b1z8kUL",
        "outputId": "6e56b099-2c13-4d02-d58a-fad8beb4716f"
      },
      "execution_count": null,
      "outputs": [
        {
          "output_type": "stream",
          "name": "stdout",
          "text": [
            "I'm hungry\n"
          ]
        }
      ]
    },
    {
      "cell_type": "code",
      "source": [
        "print('He ask me \"Who got the book?\"')"
      ],
      "metadata": {
        "colab": {
          "base_uri": "https://localhost:8080/"
        },
        "id": "dt7pL3lQ8tRc",
        "outputId": "1a2ac816-1e53-4958-ce79-191f2eeec953"
      },
      "execution_count": null,
      "outputs": [
        {
          "output_type": "stream",
          "name": "stdout",
          "text": [
            "He ask me \"Who got the book?\"\n"
          ]
        }
      ]
    },
    {
      "cell_type": "code",
      "source": [
        "print(\"I'm good and \\\"I will do my best\\\"\")"
      ],
      "metadata": {
        "colab": {
          "base_uri": "https://localhost:8080/"
        },
        "id": "km1ZaR1Q99g0",
        "outputId": "523cdc09-a525-4611-a61a-74e1012f265c"
      },
      "execution_count": null,
      "outputs": [
        {
          "output_type": "stream",
          "name": "stdout",
          "text": [
            "I'm good and \"I will do my best\"\n"
          ]
        }
      ]
    },
    {
      "cell_type": "code",
      "source": [
        "print('/\\\\')"
      ],
      "metadata": {
        "colab": {
          "base_uri": "https://localhost:8080/"
        },
        "id": "lx5_cWXU-kUO",
        "outputId": "cf68e421-9cd7-42a1-a57a-16c0cd28c11d"
      },
      "execution_count": null,
      "outputs": [
        {
          "output_type": "stream",
          "name": "stdout",
          "text": [
            "/\\\n"
          ]
        }
      ]
    },
    {
      "cell_type": "code",
      "source": [
        "print('\\ta\\na\\ta\\ta\\n\\ta')"
      ],
      "metadata": {
        "colab": {
          "base_uri": "https://localhost:8080/"
        },
        "id": "gDqYA0PY-s1s",
        "outputId": "f985619e-07f9-4e0c-e0aa-746610c55359"
      },
      "execution_count": null,
      "outputs": [
        {
          "output_type": "stream",
          "name": "stdout",
          "text": [
            "\ta\n",
            "a\ta\ta\n",
            "\ta\n"
          ]
        }
      ]
    },
    {
      "cell_type": "code",
      "source": [
        "print('''\\ta\n",
        "a\\ta\\ta\n",
        "\\ta''')"
      ],
      "metadata": {
        "colab": {
          "base_uri": "https://localhost:8080/"
        },
        "id": "r5UsmUT6AGTM",
        "outputId": "1512b2fe-8504-4433-cdef-a9235fb85cb6"
      },
      "execution_count": null,
      "outputs": [
        {
          "output_type": "stream",
          "name": "stdout",
          "text": [
            "\ta\n",
            "a\ta\ta\n",
            "\ta\n"
          ]
        }
      ]
    },
    {
      "cell_type": "code",
      "source": [
        "print('100.00')"
      ],
      "metadata": {
        "colab": {
          "base_uri": "https://localhost:8080/"
        },
        "id": "2CgmiS_lHMwm",
        "outputId": "c806a3e0-35bb-40fa-c605-ef739cabcda1"
      },
      "execution_count": null,
      "outputs": [
        {
          "output_type": "stream",
          "name": "stdout",
          "text": [
            "100.00\n"
          ]
        }
      ]
    },
    {
      "cell_type": "code",
      "source": [
        "print('%d' %100)"
      ],
      "metadata": {
        "colab": {
          "base_uri": "https://localhost:8080/"
        },
        "id": "p6kDhqO4Hlpd",
        "outputId": "c8d27575-8474-4800-d2f9-cb332f4bacc7"
      },
      "execution_count": null,
      "outputs": [
        {
          "output_type": "stream",
          "name": "stdout",
          "text": [
            "100\n"
          ]
        }
      ]
    },
    {
      "cell_type": "code",
      "source": [
        "print('%d' %100.58)"
      ],
      "metadata": {
        "colab": {
          "base_uri": "https://localhost:8080/"
        },
        "id": "3yuXTEWaHy91",
        "outputId": "9468e72e-f75c-4a21-e176-497497e762b4"
      },
      "execution_count": null,
      "outputs": [
        {
          "output_type": "stream",
          "name": "stdout",
          "text": [
            "100\n"
          ]
        }
      ]
    },
    {
      "cell_type": "code",
      "source": [
        "print('%f' %-100.89)"
      ],
      "metadata": {
        "colab": {
          "base_uri": "https://localhost:8080/"
        },
        "id": "wL-Q_ju6H67t",
        "outputId": "70bed8de-30ff-4142-c36e-be1ffdb30e9d"
      },
      "execution_count": null,
      "outputs": [
        {
          "output_type": "stream",
          "name": "stdout",
          "text": [
            "-100.890000\n"
          ]
        }
      ]
    },
    {
      "cell_type": "code",
      "source": [
        "print('%.2f' %100.89)"
      ],
      "metadata": {
        "colab": {
          "base_uri": "https://localhost:8080/"
        },
        "id": "7zvJr1lUICXU",
        "outputId": "b47c45e9-4efc-4745-abca-c484f7dcf5be"
      },
      "execution_count": null,
      "outputs": [
        {
          "output_type": "stream",
          "name": "stdout",
          "text": [
            "100.89\n"
          ]
        }
      ]
    },
    {
      "cell_type": "code",
      "source": [
        "from math import pi\n",
        "print('%.2f' %pi)"
      ],
      "metadata": {
        "colab": {
          "base_uri": "https://localhost:8080/"
        },
        "id": "oM2BgjzsJqjs",
        "outputId": "eac6b9e8-1c79-42b7-847c-99f6239c229b"
      },
      "execution_count": null,
      "outputs": [
        {
          "output_type": "stream",
          "name": "stdout",
          "text": [
            "3.14\n"
          ]
        }
      ]
    },
    {
      "cell_type": "code",
      "source": [
        "print('%.4f' %pi)"
      ],
      "metadata": {
        "colab": {
          "base_uri": "https://localhost:8080/"
        },
        "id": "pbIns4Q5KIP0",
        "outputId": "5c9d402e-21b6-4d08-8909-7dca2e902ff6"
      },
      "execution_count": null,
      "outputs": [
        {
          "output_type": "stream",
          "name": "stdout",
          "text": [
            "3.1416\n"
          ]
        }
      ]
    },
    {
      "cell_type": "code",
      "source": [
        "print('%.50f' %pi)"
      ],
      "metadata": {
        "colab": {
          "base_uri": "https://localhost:8080/"
        },
        "id": "gvpUhh6_KRR9",
        "outputId": "2674b764-421a-496b-8fc4-08104c4b10d1"
      },
      "execution_count": null,
      "outputs": [
        {
          "output_type": "stream",
          "name": "stdout",
          "text": [
            "3.14159265358979311599796346854418516159057617187500\n"
          ]
        }
      ]
    },
    {
      "cell_type": "code",
      "source": [
        "print('My age is ', 25,'I have ',3500.50,'Bth.')"
      ],
      "metadata": {
        "colab": {
          "base_uri": "https://localhost:8080/"
        },
        "id": "r3opqRuPLvL-",
        "outputId": "8d71d6d5-df5a-4987-e7ce-52c718a2038e"
      },
      "execution_count": null,
      "outputs": [
        {
          "output_type": "stream",
          "name": "stdout",
          "text": [
            "My age is  25 I have  3500.5 Bth.\n"
          ]
        }
      ]
    },
    {
      "cell_type": "code",
      "source": [
        "print('My age is %d I have %.2f Bth.' %(25,3500.50))"
      ],
      "metadata": {
        "colab": {
          "base_uri": "https://localhost:8080/"
        },
        "id": "H9R_XK-VMDh9",
        "outputId": "adca6a23-be70-473e-d7bf-e2437757e542"
      },
      "execution_count": null,
      "outputs": [
        {
          "output_type": "stream",
          "name": "stdout",
          "text": [
            "My age is 25 I have 3500.50 Bth.\n"
          ]
        }
      ]
    },
    {
      "cell_type": "code",
      "source": [
        "print('My age is '+ str(25)+' I have '+str(3500.50)+' Bth.')"
      ],
      "metadata": {
        "colab": {
          "base_uri": "https://localhost:8080/"
        },
        "id": "vy3_RxRXMmZt",
        "outputId": "75728559-f4ca-4749-da1c-823801afb4ae"
      },
      "execution_count": null,
      "outputs": [
        {
          "output_type": "stream",
          "name": "stdout",
          "text": [
            "My age is 25 I have 3500.5 Bth.\n"
          ]
        }
      ]
    },
    {
      "cell_type": "code",
      "source": [
        "print('5+4='5+4)"
      ],
      "metadata": {
        "colab": {
          "base_uri": "https://localhost:8080/"
        },
        "id": "7cZgKDXVN_i8",
        "outputId": "7021949f-f54f-4b34-e73b-ebfc4fad55ce"
      },
      "execution_count": null,
      "outputs": [
        {
          "output_type": "stream",
          "name": "stdout",
          "text": [
            "5+4= 9\n"
          ]
        }
      ]
    },
    {
      "cell_type": "code",
      "source": [
        "print('5+4=%.2F'%(5+4))"
      ],
      "metadata": {
        "colab": {
          "base_uri": "https://localhost:8080/"
        },
        "id": "oEqInExSOK-c",
        "outputId": "fdbcc742-7fa8-4986-ca00-b6b17527dd25"
      },
      "execution_count": null,
      "outputs": [
        {
          "output_type": "stream",
          "name": "stdout",
          "text": [
            "5+4=9.00\n"
          ]
        }
      ]
    },
    {
      "cell_type": "code",
      "source": [
        "print('5+4 ='+str(5+4))"
      ],
      "metadata": {
        "colab": {
          "base_uri": "https://localhost:8080/"
        },
        "id": "sP_wVXlLOc4q",
        "outputId": "99e0abb4-6f85-4518-e7af-a2f30051c0c6"
      },
      "execution_count": null,
      "outputs": [
        {
          "output_type": "stream",
          "name": "stdout",
          "text": [
            "5+4 =9\n"
          ]
        }
      ]
    },
    {
      "cell_type": "code",
      "source": [
        "print(\"I'm Anirach\",\"I'll Keep practicing!\")"
      ],
      "metadata": {
        "colab": {
          "base_uri": "https://localhost:8080/"
        },
        "id": "UEa4JRMjPzzO",
        "outputId": "560f7b95-7a11-4aff-ffea-4938cba509cf"
      },
      "execution_count": null,
      "outputs": [
        {
          "output_type": "stream",
          "name": "stdout",
          "text": [
            "I'm Anirach I'll Keep practicing!\n"
          ]
        }
      ]
    },
    {
      "cell_type": "code",
      "source": [
        "print(\"I'm Anirach \" + \"I'll Keep practicing!\")"
      ],
      "metadata": {
        "colab": {
          "base_uri": "https://localhost:8080/"
        },
        "id": "7gP-OzJbQcVl",
        "outputId": "b43b88bb-9b66-400a-8221-4e62b14a0c57"
      },
      "execution_count": null,
      "outputs": [
        {
          "output_type": "stream",
          "name": "stdout",
          "text": [
            "I'm Anirach I'll Keep practicing!\n"
          ]
        }
      ]
    },
    {
      "cell_type": "code",
      "source": [
        "print('1,1,2,3,5,8,13,21,34,55')"
      ],
      "metadata": {
        "colab": {
          "base_uri": "https://localhost:8080/"
        },
        "id": "D1c9LtNxQsIT",
        "outputId": "dcc926e2-8079-448c-9b2c-18d9016e7962"
      },
      "execution_count": null,
      "outputs": [
        {
          "output_type": "stream",
          "name": "stdout",
          "text": [
            "1,1,2,3,5,8,13,21,34,55\n"
          ]
        }
      ]
    },
    {
      "cell_type": "code",
      "source": [
        "print('%d %d %d %d %d %d %d %d %d %d' %(1,1,2,3,5,8,13,21,34,55))"
      ],
      "metadata": {
        "colab": {
          "base_uri": "https://localhost:8080/"
        },
        "id": "kzhqmWYhQ1Eb",
        "outputId": "59a73814-0b4d-4b22-c898-1e3671879d2d"
      },
      "execution_count": null,
      "outputs": [
        {
          "output_type": "stream",
          "name": "stdout",
          "text": [
            "1 1 2 3 5 8 13 21 34 55\n"
          ]
        }
      ]
    }
  ]
}