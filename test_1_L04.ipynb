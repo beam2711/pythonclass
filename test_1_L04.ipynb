{
  "nbformat": 4,
  "nbformat_minor": 0,
  "metadata": {
    "colab": {
      "provenance": [],
      "authorship_tag": "ABX9TyOlxw/bAeQWkKLsRMW5gfJF",
      "include_colab_link": true
    },
    "kernelspec": {
      "name": "python3",
      "display_name": "Python 3"
    },
    "language_info": {
      "name": "python"
    }
  },
  "cells": [
    {
      "cell_type": "markdown",
      "metadata": {
        "id": "view-in-github",
        "colab_type": "text"
      },
      "source": [
        "<a href=\"https://colab.research.google.com/github/beam2711/pythonclass/blob/main/test_1_L04.ipynb\" target=\"_parent\"><img src=\"https://colab.research.google.com/assets/colab-badge.svg\" alt=\"Open In Colab\"/></a>"
      ]
    },
    {
      "cell_type": "code",
      "execution_count": null,
      "metadata": {
        "id": "3h_4Cn_v0WIe"
      },
      "outputs": [],
      "source": [
        "friend = 'Kill'\n",
        "frind[0] = 'w'"
      ]
    },
    {
      "cell_type": "code",
      "source": [
        "ss = \"Sammy shark!\"\n",
        "print(ss[4])\n",
        "print(ss[6:11])\n",
        "print(ss[:5])\n",
        "print(ss[7:])\n",
        "print(ss[-4:-1])\n",
        "print(ss[6:11])\n",
        "print(ss[6:11:1])\n",
        "print(ss[0:12:2])\n",
        "print(ss[0:12:4])\n",
        "print(ss[::4])\n",
        "print(ss[::-1])\n",
        "print(ss[::-2])"
      ],
      "metadata": {
        "colab": {
          "base_uri": "https://localhost:8080/"
        },
        "id": "kHLJI_5N1Sdz",
        "outputId": "87bc3321-a3bb-4804-e411-dd3f4932a644"
      },
      "execution_count": 3,
      "outputs": [
        {
          "output_type": "stream",
          "name": "stdout",
          "text": [
            "y\n",
            "shark\n",
            "Sammy\n",
            "hark!\n",
            "ark\n",
            "shark\n",
            "shark\n",
            "Smysak\n",
            "Sya\n",
            "Sya\n",
            "!krahs ymmaS\n",
            "!rh ma\n"
          ]
        }
      ]
    },
    {
      "cell_type": "code",
      "source": [
        "again = 'y'\n",
        "while again.lower() =='y':\n",
        "  print('Hello')\n",
        "  print('Do you want to see that again?')\n",
        "  again = input('y = yes, anything else = no: ')"
      ],
      "metadata": {
        "colab": {
          "base_uri": "https://localhost:8080/"
        },
        "id": "3F_nvRdt3-HL",
        "outputId": "0714f528-adb1-4989-ac5b-c7333bea3d37"
      },
      "execution_count": 5,
      "outputs": [
        {
          "name": "stdout",
          "output_type": "stream",
          "text": [
            "Hello\n",
            "Do you want to see that again?\n",
            "y = yes, anything else = no: y\n",
            "Hello\n",
            "Do you want to see that again?\n",
            "y = yes, anything else = no: y\n",
            "Hello\n",
            "Do you want to see that again?\n",
            "y = yes, anything else = no: v\n"
          ]
        }
      ]
    },
    {
      "cell_type": "code",
      "source": [
        "print (' I {} Python. ' .format(' love '))\n",
        "print ( ' {}  {}  {} ' .format('I', 'love', 'Python.'))"
      ],
      "metadata": {
        "colab": {
          "base_uri": "https://localhost:8080/"
        },
        "id": "qBqHRZJS_gMS",
        "outputId": "a0d78823-4ccd-40d0-8fd3-2365b3becb35"
      },
      "execution_count": 7,
      "outputs": [
        {
          "output_type": "stream",
          "name": "stdout",
          "text": [
            " I  love  Python. \n",
            " I  love  Python. \n"
          ]
        }
      ]
    },
    {
      "cell_type": "code",
      "source": [
        "version = 3\n",
        "print (' I  love  Python  {}. ' .format(version))"
      ],
      "metadata": {
        "colab": {
          "base_uri": "https://localhost:8080/"
        },
        "id": "dBiI3kceAq06",
        "outputId": "ee9c223d-63d8-4817-985e-e7463a0d0c65"
      },
      "execution_count": 11,
      "outputs": [
        {
          "output_type": "stream",
          "name": "stdout",
          "text": [
            " I  love  Python  3. \n"
          ]
        }
      ]
    },
    {
      "cell_type": "code",
      "source": [
        "print(' {0:8} | {1:8} ' .format('Fruit' , 'Quantity'))\n",
        "print(' {0:8} | {1:8} ' .format('Apple' , '3'))\n",
        "print(' {0:8} | {1:8} ' .format('Orange' , '10'))"
      ],
      "metadata": {
        "colab": {
          "base_uri": "https://localhost:8080/"
        },
        "id": "pJc67xy5BaaR",
        "outputId": "a4d67e9a-34c7-4dad-d3ae-b06948ec853f"
      },
      "execution_count": 12,
      "outputs": [
        {
          "output_type": "stream",
          "name": "stdout",
          "text": [
            " Fruit    | Quantity \n",
            " Apple    | 3        \n",
            " Orange   | 10       \n"
          ]
        }
      ]
    },
    {
      "cell_type": "code",
      "source": [
        "print(' {0:8} | {1:>8} ' .format('Fruit' , 'Quantity'))\n",
        "print(' {0:8} | {1:>8} ' .format('Apple' , '3'))\n",
        "print(' {0:8} | {1:>8} ' .format('Orange' , '10'))"
      ],
      "metadata": {
        "colab": {
          "base_uri": "https://localhost:8080/"
        },
        "id": "gyYFqbmhCKmd",
        "outputId": "aff9de54-179c-45b3-8d4d-6cad7724e551"
      },
      "execution_count": 13,
      "outputs": [
        {
          "output_type": "stream",
          "name": "stdout",
          "text": [
            " Fruit    | Quantity \n",
            " Apple    |        3 \n",
            " Orange   |       10 \n"
          ]
        }
      ]
    },
    {
      "cell_type": "code",
      "source": [
        "print(' {0:8} | {1:>8} ' .format('Fruit' , 'Quantity'))\n",
        "print(' {0:8} | {1:>8.2f} ' .format('Apple' , 2.3333))\n",
        "print(' {0:8} | {1:>8.2f} ' .format('Orange' , 10))"
      ],
      "metadata": {
        "colab": {
          "base_uri": "https://localhost:8080/"
        },
        "id": "HhAyn9VnCWxi",
        "outputId": "cf7850ba-8c98-4fa3-ebb3-8268022f4b07"
      },
      "execution_count": 20,
      "outputs": [
        {
          "output_type": "stream",
          "name": "stdout",
          "text": [
            " Fruit    | Quantity \n",
            " Apple    |     2.33 \n",
            " Orange   |    10.00 \n"
          ]
        }
      ]
    },
    {
      "cell_type": "code",
      "source": [
        "balloon = \"Anirach has a ballooon\"\n",
        "print(\" \".join(balloon))\n",
        "print(\"\".join(reversed(balloon)))\n",
        "print(\",\".join([\"sharks\", \"crustaceans\", \"plankton\"]))"
      ],
      "metadata": {
        "colab": {
          "base_uri": "https://localhost:8080/"
        },
        "id": "PqKjiVO3C4E6",
        "outputId": "e1f7d0c7-ecc1-42ca-c58d-bb52fcc8a4b4"
      },
      "execution_count": 22,
      "outputs": [
        {
          "output_type": "stream",
          "name": "stdout",
          "text": [
            "A n i r a c h   h a s   a   b a l l o o o n\n",
            "nooollab a sah hcarinA\n",
            "sharks,crustaceans,plankton\n"
          ]
        }
      ]
    },
    {
      "cell_type": "code",
      "source": [
        "balloon = \"Anirach has a ballooon.\"\n",
        "print(balloon.split())\n",
        "print(balloon.split(\"a\"))"
      ],
      "metadata": {
        "colab": {
          "base_uri": "https://localhost:8080/"
        },
        "id": "cp6XNsSqD4NK",
        "outputId": "cc935195-d092-4c05-ef72-500c9797d8a9"
      },
      "execution_count": 23,
      "outputs": [
        {
          "output_type": "stream",
          "name": "stdout",
          "text": [
            "['Anirach', 'has', 'a', 'ballooon.']\n",
            "['Anir', 'ch h', 's ', ' b', 'llooon.']\n"
          ]
        }
      ]
    },
    {
      "cell_type": "code",
      "source": [
        "date_string = '11/26.2014'\n",
        "date_list = date_string.split('/')\n",
        "print('Month:', date_list[0])\n",
        "print('Day:', date_list[1])\n",
        "print('Year:', date_list[2])\n",
        "print(date_list)\n"
      ],
      "metadata": {
        "id": "27IHc_ZzJPaT"
      },
      "execution_count": null,
      "outputs": []
    },
    {
      "cell_type": "code",
      "source": [
        "string = 'Four score and seven years ago'\n",
        "position = string.find('seven')\n",
        "if position != -1 :\n",
        "  print('The woed \"seven\" was found at index', position)\n",
        "else:\n",
        "  print('The word \"seven\" was not found.')"
      ],
      "metadata": {
        "colab": {
          "base_uri": "https://localhost:8080/"
        },
        "id": "-AvD-hZBNEdL",
        "outputId": "123a77e6-3634-452d-fa85-1d7be32a9e20"
      },
      "execution_count": 28,
      "outputs": [
        {
          "output_type": "stream",
          "name": "stdout",
          "text": [
            "The woed \"seven\" was found at index 15\n"
          ]
        }
      ]
    },
    {
      "cell_type": "code",
      "source": [
        "balloon = \"Anirach has balloon.\"\n",
        "print(balloon.replace(\"has\",\"had\"))"
      ],
      "metadata": {
        "colab": {
          "base_uri": "https://localhost:8080/"
        },
        "id": "ngnN-n84N-FT",
        "outputId": "928f48d1-50b6-425f-dc72-5edb417cc7a8"
      },
      "execution_count": 29,
      "outputs": [
        {
          "output_type": "stream",
          "name": "stdout",
          "text": [
            "Anirach had balloon.\n"
          ]
        }
      ]
    },
    {
      "cell_type": "code",
      "source": [
        "filename = input('Enter the filename')\n",
        "if filename.endswith('.txt'):\n",
        "  print('The is the name of a text file.')\n",
        "elif filename.endswith('.py'):\n",
        "  print('This is the name of a Python source file')\n",
        "elif filename.endswith('.doc'):\n",
        "  print('This is the name of a word processing document.')\n",
        "else:\n",
        "  print('Unknown file type.')"
      ],
      "metadata": {
        "colab": {
          "base_uri": "https://localhost:8080/"
        },
        "id": "hgoELyKDOQbq",
        "outputId": "bfeb22a2-acbf-4f8e-f100-c3ac33ad2991"
      },
      "execution_count": 33,
      "outputs": [
        {
          "output_type": "stream",
          "name": "stdout",
          "text": [
            "Enter the filenamebeam\n",
            "Unknown file type.\n"
          ]
        }
      ]
    },
    {
      "cell_type": "code",
      "source": [
        "from IPython.utils.sysinfo import pprint\n",
        "movie = \"2001: A  SAMMY ODTSSET\"\n",
        "book = \"A Thousand Splendid Sharks\"\n",
        "poem = \"sammy lived in a prelly how town\"\n",
        "print(movie.isalnum())\n",
        "print(movie.isupper())\n",
        "print(book.isupper())\n",
        "print(book.isupper())\n",
        "print(poem.istitle())\n",
        "print(poem.istitle())"
      ],
      "metadata": {
        "colab": {
          "base_uri": "https://localhost:8080/"
        },
        "id": "tApgwK48QIsM",
        "outputId": "ffec7657-0882-4304-be74-b88b9e921832"
      },
      "execution_count": 34,
      "outputs": [
        {
          "output_type": "stream",
          "name": "stdout",
          "text": [
            "False\n",
            "True\n",
            "False\n",
            "False\n",
            "False\n",
            "False\n"
          ]
        }
      ]
    }
  ]
}