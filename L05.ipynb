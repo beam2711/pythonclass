{
  "nbformat": 4,
  "nbformat_minor": 0,
  "metadata": {
    "colab": {
      "provenance": [],
      "authorship_tag": "ABX9TyOJCO/JDsvELQdzwgbY5DHa",
      "include_colab_link": true
    },
    "kernelspec": {
      "name": "python3",
      "display_name": "Python 3"
    },
    "language_info": {
      "name": "python"
    }
  },
  "cells": [
    {
      "cell_type": "markdown",
      "metadata": {
        "id": "view-in-github",
        "colab_type": "text"
      },
      "source": [
        "<a href=\"https://colab.research.google.com/github/beam2711/pythonclass/blob/main/L05.ipynb\" target=\"_parent\"><img src=\"https://colab.research.google.com/assets/colab-badge.svg\" alt=\"Open In Colab\"/></a>"
      ]
    },
    {
      "cell_type": "code",
      "execution_count": 5,
      "metadata": {
        "colab": {
          "base_uri": "https://localhost:8080/"
        },
        "id": "fo1VqlO6FvVi",
        "outputId": "75cd57de-d531-4d9f-cc9b-65df30204a87"
      },
      "outputs": [
        {
          "output_type": "stream",
          "name": "stdout",
          "text": [
            "I am Anirach,\n",
            "I Love Python.\n"
          ]
        }
      ],
      "source": [
        "def message():\n",
        "  print('I am Anirach,')\n",
        "  print('I Love Python.')\n",
        "message()"
      ]
    },
    {
      "cell_type": "code",
      "source": [
        "def main():\n",
        "  print('I have a message for you.')\n",
        "  message()\n",
        "  print('Goodbye!')\n",
        "\n",
        "def message():\n",
        "  print('I am Anirach.')\n",
        "  print('I Love Python.')\n",
        "main()"
      ],
      "metadata": {
        "colab": {
          "base_uri": "https://localhost:8080/"
        },
        "id": "Vkl-JvXVGqB_",
        "outputId": "2d472941-f7e3-4313-e2d6-7c0c6f74f8ea"
      },
      "execution_count": 10,
      "outputs": [
        {
          "output_type": "stream",
          "name": "stdout",
          "text": [
            "I have a message for you.\n",
            "I am Anirach.\n",
            "I Love Python.\n",
            "Goodbye!\n"
          ]
        }
      ]
    },
    {
      "cell_type": "code",
      "source": [
        "def main():\n",
        "  texas()\n",
        "  california()\n",
        "\n",
        "def texas():\n",
        "  birds = 5000\n",
        "  print('texas has',birds,'birds.')\n",
        "\n",
        "def california():\n",
        "  birds = 8000\n",
        "  print('california has',birds,'birds.')\n",
        "main()"
      ],
      "metadata": {
        "colab": {
          "base_uri": "https://localhost:8080/"
        },
        "id": "FsSgYCj7Kdwp",
        "outputId": "78f88025-ee0b-48e5-add6-8c54ff291fc0"
      },
      "execution_count": 11,
      "outputs": [
        {
          "output_type": "stream",
          "name": "stdout",
          "text": [
            "texas has 5000 birds.\n",
            "california has 8000 birds.\n"
          ]
        }
      ]
    },
    {
      "cell_type": "code",
      "source": [
        "def main():\n",
        "  value = 5\n",
        "  show_double(value)\n",
        "\n",
        "def show_double(number):\n",
        "  result = number * 2\n",
        "  print(result)\n",
        "main()"
      ],
      "metadata": {
        "colab": {
          "base_uri": "https://localhost:8080/"
        },
        "id": "oPx-6HSPMW7X",
        "outputId": "3ce01d4d-e6f5-470a-e031-a3e465108717"
      },
      "execution_count": 13,
      "outputs": [
        {
          "output_type": "stream",
          "name": "stdout",
          "text": [
            "10\n"
          ]
        }
      ]
    },
    {
      "cell_type": "code",
      "source": [
        "def main():\n",
        "  print('The sum of 12 and 45 is')\n",
        "  show_sum(12, 45)\n",
        "\n",
        "def show_sum(num1, num2):\n",
        "  result = num1 + num2\n",
        "  print(result)\n",
        "main()"
      ],
      "metadata": {
        "colab": {
          "base_uri": "https://localhost:8080/"
        },
        "id": "9LsRdrSTNdnY",
        "outputId": "aaa90ab4-0ef2-4a42-f278-d3619d21fc28"
      },
      "execution_count": 16,
      "outputs": [
        {
          "output_type": "stream",
          "name": "stdout",
          "text": [
            "The sum of 12 and 45 is\n",
            "57\n"
          ]
        }
      ]
    },
    {
      "cell_type": "code",
      "source": [
        "def main():\n",
        "  value = 99\n",
        "  print('The value is', value)\n",
        "  change_me(value)\n",
        "  print(\"Black ic main the value is\", value)\n",
        "\n",
        "def change_me(arg):\n",
        "    print('I am canging the value.')\n",
        "    arg = 0\n",
        "    print ('Now the value is', arg)\n",
        "main()"
      ],
      "metadata": {
        "colab": {
          "base_uri": "https://localhost:8080/"
        },
        "id": "XlcXZniUOfjv",
        "outputId": "3c501ba5-3db8-4a74-a1d7-0f9b51eb7147"
      },
      "execution_count": 17,
      "outputs": [
        {
          "output_type": "stream",
          "name": "stdout",
          "text": [
            "The value is 99\n",
            "I am canging the value.\n",
            "Now the value is 0\n",
            "Black ic main the value is 99\n"
          ]
        }
      ]
    },
    {
      "cell_type": "code",
      "source": [
        "def reverse_name(first, last):\n",
        "  print(last, first)\n",
        "\n",
        "def main():\n",
        "  first_name = input('Enter your first name: ')\n",
        "  last_name = input('Enter your last name: ')\n",
        "  print('Your name reversed is')\n",
        "  reverse_name(first_name, last_name)\n",
        "main()"
      ],
      "metadata": {
        "colab": {
          "base_uri": "https://localhost:8080/"
        },
        "id": "tFR_x-5GQJDZ",
        "outputId": "8d9963c9-6ffc-4768-e9f2-c8a03a139fa1"
      },
      "execution_count": 19,
      "outputs": [
        {
          "output_type": "stream",
          "name": "stdout",
          "text": [
            "Enter your first name: piyatida\n",
            "Enter your last name: phomseemai\n",
            "Your name reversed is\n",
            "phomseemai piyatida\n"
          ]
        }
      ]
    },
    {
      "cell_type": "code",
      "source": [
        "number = 0\n",
        "def main():\n",
        "  global number\n",
        "  number = int(input('Enter a number: '))\n",
        "  show_number()\n",
        "\n",
        "def show_number():\n",
        "  print('The number you entered is', number)\n",
        "main()"
      ],
      "metadata": {
        "colab": {
          "base_uri": "https://localhost:8080/"
        },
        "id": "ItQGPOxwRQOZ",
        "outputId": "474a0bc9-1e33-4ded-b2f3-2fc08e40cfcd"
      },
      "execution_count": 25,
      "outputs": [
        {
          "output_type": "stream",
          "name": "stdout",
          "text": [
            "Enter a number: 9\n",
            "The number you entered is 9\n"
          ]
        }
      ]
    },
    {
      "cell_type": "code",
      "source": [
        "import random\n",
        "HEADS = 1\n",
        "TAILS = 2\n",
        "TOSSES = 10\n",
        "def main():\n",
        "  for toss in range(TOSSES):\n",
        "\n",
        "    if random.randint(HEADS, TAILS) == HEADS:\n",
        "      print('Heads')\n",
        "    else:\n",
        "      print('Tails')\n",
        "main()"
      ],
      "metadata": {
        "colab": {
          "base_uri": "https://localhost:8080/"
        },
        "id": "LCnlshKqS-Z3",
        "outputId": "3b66e0ef-876f-4e9b-a8c4-56f3aacb5af5"
      },
      "execution_count": 23,
      "outputs": [
        {
          "output_type": "stream",
          "name": "stdout",
          "text": [
            "Tails\n",
            "Heads\n",
            "Heads\n",
            "Heads\n",
            "Tails\n",
            "Heads\n",
            "Tails\n",
            "Tails\n",
            "Heads\n",
            "Heads\n"
          ]
        }
      ]
    },
    {
      "cell_type": "code",
      "source": [
        "DISCOUNT_PERCENTAGE = 0.20\n",
        "def main():\n",
        "  reg_price = get_regular_price()\n",
        "  sale_price = reg_price - discount(reg_price)\n",
        "  print('The sale price is $', format(sale_price, ',.2f'), sep='')\n",
        "\n",
        "def get_regular_price():\n",
        "  price = float(input(\"Enter the item's regular price: \"))\n",
        "  return price\n",
        "\n",
        "def discount(price):\n",
        "  return price * DISCOUNT_PERCENTAGE\n",
        "main()"
      ],
      "metadata": {
        "colab": {
          "base_uri": "https://localhost:8080/"
        },
        "id": "WT2uk5S9dDTQ",
        "outputId": "753b6c68-70b7-43b4-f3fb-f5ea112b8c8b"
      },
      "execution_count": 35,
      "outputs": [
        {
          "output_type": "stream",
          "name": "stdout",
          "text": [
            "Enter the item's regular price: 22\n",
            "The sale price is $17.60\n"
          ]
        }
      ]
    },
    {
      "cell_type": "code",
      "source": [
        "def get_name():\n",
        "  first = input('Enter your first name: ')\n",
        "  last = input('Enter your last name: ')\n",
        "  return first, last\n",
        "\n",
        "first_name, last_name = get_name()\n",
        "print('Firsr name :',first_name,'Last_name :', last_name)"
      ],
      "metadata": {
        "colab": {
          "base_uri": "https://localhost:8080/"
        },
        "id": "bc9D14LjfAYZ",
        "outputId": "538dc39c-a4b8-4a0b-93a8-f0622612b4d8"
      },
      "execution_count": 33,
      "outputs": [
        {
          "output_type": "stream",
          "name": "stdout",
          "text": [
            "Enter your first name: piyatida\n",
            "Enter your last name: phomseemia\n",
            "Firsr name : piyatida Last_name : phomseemia\n"
          ]
        }
      ]
    },
    {
      "cell_type": "code",
      "source": [
        "import math\n",
        "def area(radius):\n",
        "  return math.pi * radius**2\n",
        "\n",
        "def circumference(radius):\n",
        "  return 2 * math.pi * radius"
      ],
      "metadata": {
        "id": "9r7nZ08ZhurL"
      },
      "execution_count": 36,
      "outputs": []
    }
  ]
}