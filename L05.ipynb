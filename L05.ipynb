{
  "nbformat": 4,
  "nbformat_minor": 0,
  "metadata": {
    "colab": {
      "provenance": [],
      "authorship_tag": "ABX9TyNhySCg0WUJdnc0V4lUu77e",
      "include_colab_link": true
    },
    "kernelspec": {
      "name": "python3",
      "display_name": "Python 3"
    },
    "language_info": {
      "name": "python"
    }
  },
  "cells": [
    {
      "cell_type": "markdown",
      "metadata": {
        "id": "view-in-github",
        "colab_type": "text"
      },
      "source": [
        "<a href=\"https://colab.research.google.com/github/beam2711/pythonclass/blob/main/L05.ipynb\" target=\"_parent\"><img src=\"https://colab.research.google.com/assets/colab-badge.svg\" alt=\"Open In Colab\"/></a>"
      ]
    },
    {
      "cell_type": "code",
      "execution_count": null,
      "metadata": {
        "colab": {
          "base_uri": "https://localhost:8080/"
        },
        "id": "fo1VqlO6FvVi",
        "outputId": "75cd57de-d531-4d9f-cc9b-65df30204a87"
      },
      "outputs": [
        {
          "output_type": "stream",
          "name": "stdout",
          "text": [
            "I am Anirach,\n",
            "I Love Python.\n"
          ]
        }
      ],
      "source": [
        "def message():\n",
        "  print('I am Anirach,')\n",
        "  print('I Love Python.')\n",
        "message()"
      ]
    },
    {
      "cell_type": "code",
      "source": [
        "def main():\n",
        "  print('I have a message for you.')\n",
        "  message()\n",
        "  print('Goodbye!')\n",
        "\n",
        "def message():\n",
        "  print('I am Anirach.')\n",
        "  print('I Love Python.')\n",
        "main()"
      ],
      "metadata": {
        "colab": {
          "base_uri": "https://localhost:8080/"
        },
        "id": "Vkl-JvXVGqB_",
        "outputId": "2d472941-f7e3-4313-e2d6-7c0c6f74f8ea"
      },
      "execution_count": null,
      "outputs": [
        {
          "output_type": "stream",
          "name": "stdout",
          "text": [
            "I have a message for you.\n",
            "I am Anirach.\n",
            "I Love Python.\n",
            "Goodbye!\n"
          ]
        }
      ]
    },
    {
      "cell_type": "code",
      "source": [
        "def main():\n",
        "  texas()\n",
        "  california()\n",
        "\n",
        "def texas():\n",
        "  birds = 5000\n",
        "  print('texas has',birds,'birds.')\n",
        "\n",
        "def california():\n",
        "  birds = 8000\n",
        "  print('california has',birds,'birds.')\n",
        "main()"
      ],
      "metadata": {
        "colab": {
          "base_uri": "https://localhost:8080/"
        },
        "id": "FsSgYCj7Kdwp",
        "outputId": "78f88025-ee0b-48e5-add6-8c54ff291fc0"
      },
      "execution_count": null,
      "outputs": [
        {
          "output_type": "stream",
          "name": "stdout",
          "text": [
            "texas has 5000 birds.\n",
            "california has 8000 birds.\n"
          ]
        }
      ]
    },
    {
      "cell_type": "code",
      "source": [
        "def main():\n",
        "  value = 5\n",
        "  show_double(value)\n",
        "\n",
        "def show_double(number):\n",
        "  result = number * 2\n",
        "  print(result)\n",
        "main()"
      ],
      "metadata": {
        "colab": {
          "base_uri": "https://localhost:8080/"
        },
        "id": "oPx-6HSPMW7X",
        "outputId": "3ce01d4d-e6f5-470a-e031-a3e465108717"
      },
      "execution_count": null,
      "outputs": [
        {
          "output_type": "stream",
          "name": "stdout",
          "text": [
            "10\n"
          ]
        }
      ]
    },
    {
      "cell_type": "code",
      "source": [
        "def main():\n",
        "  print('The sum of 12 and 45 is')\n",
        "  show_sum(12, 45)\n",
        "\n",
        "def show_sum(num1, num2):\n",
        "  result = num1 + num2\n",
        "  print(result)\n",
        "main()"
      ],
      "metadata": {
        "colab": {
          "base_uri": "https://localhost:8080/"
        },
        "id": "9LsRdrSTNdnY",
        "outputId": "aaa90ab4-0ef2-4a42-f278-d3619d21fc28"
      },
      "execution_count": null,
      "outputs": [
        {
          "output_type": "stream",
          "name": "stdout",
          "text": [
            "The sum of 12 and 45 is\n",
            "57\n"
          ]
        }
      ]
    },
    {
      "cell_type": "code",
      "source": [
        "def main():\n",
        "  value = 99\n",
        "  print('The value is', value)\n",
        "  change_me(value)\n",
        "  print(\"Black ic main the value is\", value)\n",
        "\n",
        "def change_me(arg):\n",
        "    print('I am canging the value.')\n",
        "    arg = 0\n",
        "    print ('Now the value is', arg)\n",
        "main()"
      ],
      "metadata": {
        "colab": {
          "base_uri": "https://localhost:8080/"
        },
        "id": "XlcXZniUOfjv",
        "outputId": "3c501ba5-3db8-4a74-a1d7-0f9b51eb7147"
      },
      "execution_count": null,
      "outputs": [
        {
          "output_type": "stream",
          "name": "stdout",
          "text": [
            "The value is 99\n",
            "I am canging the value.\n",
            "Now the value is 0\n",
            "Black ic main the value is 99\n"
          ]
        }
      ]
    },
    {
      "cell_type": "code",
      "source": [
        "def reverse_name(first, last):\n",
        "  print(last, first)\n",
        "\n",
        "def main():\n",
        "  first_name = input('Enter your first name: ')\n",
        "  last_name = input('Enter your last name: ')\n",
        "  print('Your name reversed is')\n",
        "  reverse_name(first_name, last_name)\n",
        "main()"
      ],
      "metadata": {
        "colab": {
          "base_uri": "https://localhost:8080/"
        },
        "id": "tFR_x-5GQJDZ",
        "outputId": "8d9963c9-6ffc-4768-e9f2-c8a03a139fa1"
      },
      "execution_count": null,
      "outputs": [
        {
          "output_type": "stream",
          "name": "stdout",
          "text": [
            "Enter your first name: piyatida\n",
            "Enter your last name: phomseemai\n",
            "Your name reversed is\n",
            "phomseemai piyatida\n"
          ]
        }
      ]
    },
    {
      "cell_type": "code",
      "source": [
        "number = 0\n",
        "def main():\n",
        "  global number\n",
        "  number = int(input('Enter a number: '))\n",
        "  show_number()\n",
        "\n",
        "def show_number():\n",
        "  print('The number you entered is', number)\n",
        "main()"
      ],
      "metadata": {
        "colab": {
          "base_uri": "https://localhost:8080/"
        },
        "id": "ItQGPOxwRQOZ",
        "outputId": "474a0bc9-1e33-4ded-b2f3-2fc08e40cfcd"
      },
      "execution_count": null,
      "outputs": [
        {
          "output_type": "stream",
          "name": "stdout",
          "text": [
            "Enter a number: 9\n",
            "The number you entered is 9\n"
          ]
        }
      ]
    },
    {
      "cell_type": "code",
      "source": [
        "import random\n",
        "HEADS = 1\n",
        "TAILS = 2\n",
        "TOSSES = 10\n",
        "def main():\n",
        "  for toss in range(TOSSES):\n",
        "\n",
        "    if random.randint(HEADS, TAILS) == HEADS:\n",
        "      print('Heads')\n",
        "    else:\n",
        "      print('Tails')\n",
        "main()"
      ],
      "metadata": {
        "colab": {
          "base_uri": "https://localhost:8080/"
        },
        "id": "LCnlshKqS-Z3",
        "outputId": "3b66e0ef-876f-4e9b-a8c4-56f3aacb5af5"
      },
      "execution_count": null,
      "outputs": [
        {
          "output_type": "stream",
          "name": "stdout",
          "text": [
            "Tails\n",
            "Heads\n",
            "Heads\n",
            "Heads\n",
            "Tails\n",
            "Heads\n",
            "Tails\n",
            "Tails\n",
            "Heads\n",
            "Heads\n"
          ]
        }
      ]
    },
    {
      "cell_type": "code",
      "source": [
        "DISCOUNT_PERCENTAGE = 0.20\n",
        "def main():\n",
        "  reg_price = get_regular_price()\n",
        "  sale_price = reg_price - discount(reg_price)\n",
        "  print('The sale price is $', format(sale_price, ',.2f'), sep='')\n",
        "\n",
        "def get_regular_price():\n",
        "  price = float(input(\"Enter the item's regular price: \"))\n",
        "  return price\n",
        "\n",
        "def discount(price):\n",
        "  return price * DISCOUNT_PERCENTAGE\n",
        "main()"
      ],
      "metadata": {
        "colab": {
          "base_uri": "https://localhost:8080/"
        },
        "id": "WT2uk5S9dDTQ",
        "outputId": "753b6c68-70b7-43b4-f3fb-f5ea112b8c8b"
      },
      "execution_count": null,
      "outputs": [
        {
          "output_type": "stream",
          "name": "stdout",
          "text": [
            "Enter the item's regular price: 22\n",
            "The sale price is $17.60\n"
          ]
        }
      ]
    },
    {
      "cell_type": "code",
      "source": [
        "def get_name():\n",
        "  first = input('Enter your first name: ')\n",
        "  last = input('Enter your last name: ')\n",
        "  return first, last\n",
        "\n",
        "first_name, last_name = get_name()\n",
        "print('Firsr name :',first_name,'Last_name :', last_name)"
      ],
      "metadata": {
        "colab": {
          "base_uri": "https://localhost:8080/"
        },
        "id": "bc9D14LjfAYZ",
        "outputId": "538dc39c-a4b8-4a0b-93a8-f0622612b4d8"
      },
      "execution_count": null,
      "outputs": [
        {
          "output_type": "stream",
          "name": "stdout",
          "text": [
            "Enter your first name: piyatida\n",
            "Enter your last name: phomseemia\n",
            "Firsr name : piyatida Last_name : phomseemia\n"
          ]
        }
      ]
    },
    {
      "cell_type": "code",
      "source": [
        "import math\n",
        "def area(radius):\n",
        "  return math.pi * radius**2\n",
        "\n",
        "def circumference(radius):\n",
        "  return 2 * math.pi * radius"
      ],
      "metadata": {
        "id": "9r7nZ08ZhurL"
      },
      "execution_count": 1,
      "outputs": []
    },
    {
      "cell_type": "code",
      "source": [
        "def area(width, length):\n",
        "    return width * length\n",
        "def perimeter(width, length):\n",
        "    return 2 * (width + length)"
      ],
      "metadata": {
        "id": "IE2mDGSN5n-J"
      },
      "execution_count": 3,
      "outputs": []
    },
    {
      "cell_type": "code",
      "source": [
        "abs(-4/3)"
      ],
      "metadata": {
        "colab": {
          "base_uri": "https://localhost:8080/"
        },
        "id": "bJn4VGNe5l5Q",
        "outputId": "a1acb2a1-f18e-49bc-de0a-4fbf2480fad5"
      },
      "execution_count": 8,
      "outputs": [
        {
          "output_type": "execute_result",
          "data": {
            "text/plain": [
              "1.3333333333333333"
            ]
          },
          "metadata": {},
          "execution_count": 8
        }
      ]
    },
    {
      "cell_type": "code",
      "source": [
        "round(-4/3)"
      ],
      "metadata": {
        "colab": {
          "base_uri": "https://localhost:8080/"
        },
        "id": "AtCBM5td9a0f",
        "outputId": "d240a9ea-0519-4637-a4e9-3a37115008b8"
      },
      "execution_count": 11,
      "outputs": [
        {
          "output_type": "execute_result",
          "data": {
            "text/plain": [
              "1"
            ]
          },
          "metadata": {},
          "execution_count": 11
        }
      ]
    },
    {
      "cell_type": "code",
      "source": [
        "min(3,2,5)"
      ],
      "metadata": {
        "colab": {
          "base_uri": "https://localhost:8080/"
        },
        "id": "ZIPIl69k9hIG",
        "outputId": "4701978e-45e1-43b0-9ba6-f2aa7d448436"
      },
      "execution_count": 6,
      "outputs": [
        {
          "output_type": "execute_result",
          "data": {
            "text/plain": [
              "2"
            ]
          },
          "metadata": {},
          "execution_count": 6
        }
      ]
    },
    {
      "cell_type": "code",
      "source": [
        "min('x','f','d')"
      ],
      "metadata": {
        "colab": {
          "base_uri": "https://localhost:8080/",
          "height": 35
        },
        "id": "C3FfbDsI98Se",
        "outputId": "d3f2d00c-de14-4006-abec-564b38f39604"
      },
      "execution_count": 15,
      "outputs": [
        {
          "output_type": "execute_result",
          "data": {
            "text/plain": [
              "'d'"
            ],
            "application/vnd.google.colaboratory.intrinsic+json": {
              "type": "string"
            }
          },
          "metadata": {},
          "execution_count": 15
        }
      ]
    },
    {
      "cell_type": "code",
      "source": [
        "a = [3, 2, 1]\n",
        "sorted(a)"
      ],
      "metadata": {
        "colab": {
          "base_uri": "https://localhost:8080/"
        },
        "id": "LnZBMUOm-LeA",
        "outputId": "67c2d3e2-010d-400d-953e-710a10158ab3"
      },
      "execution_count": 16,
      "outputs": [
        {
          "output_type": "execute_result",
          "data": {
            "text/plain": [
              "[1, 2, 3]"
            ]
          },
          "metadata": {},
          "execution_count": 16
        }
      ]
    },
    {
      "cell_type": "code",
      "source": [
        "a = [3, 2, 1]\n",
        "sum(a)"
      ],
      "metadata": {
        "colab": {
          "base_uri": "https://localhost:8080/"
        },
        "id": "wm3Xf0sr-VVm",
        "outputId": "c7af63ff-180a-4896-998a-02f509576f08"
      },
      "execution_count": 17,
      "outputs": [
        {
          "output_type": "execute_result",
          "data": {
            "text/plain": [
              "6"
            ]
          },
          "metadata": {},
          "execution_count": 17
        }
      ]
    },
    {
      "cell_type": "code",
      "source": [
        "b = [4/3, 2/3, 1/3, 1/3, 1/3]\n",
        "sum (b)"
      ],
      "metadata": {
        "colab": {
          "base_uri": "https://localhost:8080/"
        },
        "id": "DOLnoIsm-dqu",
        "outputId": "f5eb0421-f798-4b2c-a9d9-ecbfa1138c84"
      },
      "execution_count": 18,
      "outputs": [
        {
          "output_type": "execute_result",
          "data": {
            "text/plain": [
              "3.0000000000000004"
            ]
          },
          "metadata": {},
          "execution_count": 18
        }
      ]
    },
    {
      "cell_type": "code",
      "source": [
        "ss = \"I lucky No. is 7\"\n",
        "print(ss[:15])\n",
        "\n"
      ],
      "metadata": {
        "colab": {
          "base_uri": "https://localhost:8080/"
        },
        "id": "SztyUXcvDSD_",
        "outputId": "5112d959-dd5a-4169-e30e-35a1e0445dc1"
      },
      "execution_count": 26,
      "outputs": [
        {
          "output_type": "stream",
          "name": "stdout",
          "text": [
            "I lucky No. is \n"
          ]
        }
      ]
    }
  ]
}